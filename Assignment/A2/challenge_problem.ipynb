{
 "cells": [
  {
   "cell_type": "markdown",
   "metadata": {
    "colab_type": "text",
    "id": "vTOX0d3cmLQf"
   },
   "source": [
    "# EECS 498-007/598-005 Assignment 2-3: MNIST Challenge Problem\n",
    "\n",
    "Before we start, please put your name and UMID in following format\n",
    "\n",
    ": Firstname LASTNAME, #00000000   //   e.g.) Justin JOHNSON, #12345678"
   ]
  },
  {
   "cell_type": "markdown",
   "metadata": {
    "colab_type": "text",
    "id": "tt7vq1h6mRto"
   },
   "source": [
    "**Your Answer:**   \n",
    "Your NAME, #XXXXXXXX"
   ]
  },
  {
   "cell_type": "markdown",
   "metadata": {
    "colab_type": "text",
    "id": "Q7ymI0aZ2W1b"
   },
   "source": [
    "### Google Colab Setup\n",
    "Next we need to run a few commands to set up our environment on Google Colab. If you are running this notebook on a local machine you can skip this section.\n",
    "\n",
    "Run the following cell to mount your Google Drive. Follow the link, sign in to your Google account (the same account you used to store this notebook!) and copy the authorization code into the text box that appears below."
   ]
  },
  {
   "cell_type": "code",
   "execution_count": 6,
   "metadata": {
    "colab": {
     "base_uri": "https://localhost:8080/",
     "height": 34
    },
    "colab_type": "code",
    "executionInfo": {
     "elapsed": 344,
     "status": "ok",
     "timestamp": 1600042525194,
     "user": {
      "displayName": "Yunseok Jang",
      "photoUrl": "https://lh3.googleusercontent.com/a-/AOh14Gji2utsrQJWXntm3ishdCA23wmdDA4QyRS8UrqQsEQ=s64",
      "userId": "10051210866960976186"
     },
     "user_tz": 240
    },
    "id": "c_LLpLyC2eau",
    "outputId": "5cc38a97-5396-4afc-ba83-400f486d22fd"
   },
   "outputs": [],
   "source": [
    "# from google.colab import drive\n",
    "# drive.mount('/content/drive')"
   ]
  },
  {
   "cell_type": "markdown",
   "metadata": {
    "colab_type": "text",
    "id": "mbq-UT8J2mnv"
   },
   "source": [
    "Now recall the path in your Google Drive where you uploaded this notebook, fill it in below. If everything is working correctly then running the folowing cell should print the filenames from the assignment:\n",
    "\n",
    "```\n",
    "['two_layer_net.ipynb', 'eecs598', 'two_layer_net.py', 'linear_classifier.py', 'linear_classifier.ipynb', 'challenge_problem.ipynb', 'a2_helpers.py']\n",
    "```"
   ]
  },
  {
   "cell_type": "code",
   "execution_count": 7,
   "metadata": {
    "colab": {
     "base_uri": "https://localhost:8080/",
     "height": 34
    },
    "colab_type": "code",
    "executionInfo": {
     "elapsed": 303,
     "status": "ok",
     "timestamp": 1600042532597,
     "user": {
      "displayName": "Yunseok Jang",
      "photoUrl": "https://lh3.googleusercontent.com/a-/AOh14Gji2utsrQJWXntm3ishdCA23wmdDA4QyRS8UrqQsEQ=s64",
      "userId": "10051210866960976186"
     },
     "user_tz": 240
    },
    "id": "WcrhTOZW243H",
    "outputId": "f294fd3e-3860-456f-b2f7-05bf799e60e2"
   },
   "outputs": [],
   "source": [
    "# import os\n",
    "\n",
    "# # TODO: Fill in the Google Drive path where you uploaded the assignment\n",
    "# # Example: If you create a 2020FA folder and put all the files under A2 folder, then '2020FA/A2'\n",
    "# # GOOGLE_DRIVE_PATH_AFTER_MYDRIVE = '2020FA/A2'\n",
    "\n",
    "# GOOGLE_DRIVE_PATH_AFTER_MYDRIVE = None\n",
    "# GOOGLE_DRIVE_PATH = os.path.join('drive', 'My Drive', GOOGLE_DRIVE_PATH_AFTER_MYDRIVE)\n",
    "# print(os.listdir(GOOGLE_DRIVE_PATH))"
   ]
  },
  {
   "cell_type": "code",
   "execution_count": 8,
   "metadata": {
    "colab": {
     "base_uri": "https://localhost:8080/",
     "height": 51
    },
    "colab_type": "code",
    "executionInfo": {
     "elapsed": 787,
     "status": "ok",
     "timestamp": 1600042538544,
     "user": {
      "displayName": "Yunseok Jang",
      "photoUrl": "https://lh3.googleusercontent.com/a-/AOh14Gji2utsrQJWXntm3ishdCA23wmdDA4QyRS8UrqQsEQ=s64",
      "userId": "10051210866960976186"
     },
     "user_tz": 240
    },
    "id": "AhGQF5sw3Fas",
    "outputId": "5e77649b-b04d-47a8-f67a-837516eb5874"
   },
   "outputs": [],
   "source": [
    "# import sys\n",
    "# sys.path.append(GOOGLE_DRIVE_PATH)"
   ]
  },
  {
   "cell_type": "markdown",
   "metadata": {
    "colab_type": "text",
    "id": "FrfeHl_-m4V-"
   },
   "source": [
    "## Setup Code\n",
    "lets Import the functions we need to load visualize and evaluate your Neural Net"
   ]
  },
  {
   "cell_type": "code",
   "execution_count": 9,
   "metadata": {},
   "outputs": [],
   "source": [
    "from eecs598.a2_challenge_problem import get_w1, get_w2, display_templates, display_w2, evaluate_MNIST, visualize_MNIST"
   ]
  },
  {
   "cell_type": "markdown",
   "metadata": {},
   "source": [
    "# Instructions\n",
    "For this challenge problem you are tasked with constructing a 2 layer neural net by hand which classifies hand drawn digits.\n",
    "\n",
    "## Load and visualize the MNIST dataset\n",
    "We wil be Evaluating on the test set of MNIST, a dataset containing 28x28 hand drawn digits.\n",
    "\n",
    "You can run this cell to visualize examples from the training set. You can keep viewing new batches by re-running the cell. Take this oppertunity to train your own biological neural network on MNIST digits :)"
   ]
  },
  {
   "cell_type": "code",
   "execution_count": 10,
   "metadata": {},
   "outputs": [
    {
     "name": "stdout",
     "output_type": "stream",
     "text": [
      "Downloading http://yann.lecun.com/exdb/mnist/train-images-idx3-ubyte.gz\n",
      "Failed to download (trying next):\n",
      "HTTP Error 404: Not Found\n",
      "\n",
      "Downloading https://ossci-datasets.s3.amazonaws.com/mnist/train-images-idx3-ubyte.gz\n",
      "Downloading https://ossci-datasets.s3.amazonaws.com/mnist/train-images-idx3-ubyte.gz to mnist_dataset/MNIST\\raw\\train-images-idx3-ubyte.gz\n"
     ]
    },
    {
     "name": "stderr",
     "output_type": "stream",
     "text": [
      "100.0%\n"
     ]
    },
    {
     "name": "stdout",
     "output_type": "stream",
     "text": [
      "Extracting mnist_dataset/MNIST\\raw\\train-images-idx3-ubyte.gz to mnist_dataset/MNIST\\raw\n",
      "\n",
      "Downloading http://yann.lecun.com/exdb/mnist/train-labels-idx1-ubyte.gz\n",
      "Failed to download (trying next):\n",
      "HTTP Error 404: Not Found\n",
      "\n",
      "Downloading https://ossci-datasets.s3.amazonaws.com/mnist/train-labels-idx1-ubyte.gz\n",
      "Downloading https://ossci-datasets.s3.amazonaws.com/mnist/train-labels-idx1-ubyte.gz to mnist_dataset/MNIST\\raw\\train-labels-idx1-ubyte.gz\n"
     ]
    },
    {
     "name": "stderr",
     "output_type": "stream",
     "text": [
      "100.0%\n"
     ]
    },
    {
     "name": "stdout",
     "output_type": "stream",
     "text": [
      "Extracting mnist_dataset/MNIST\\raw\\train-labels-idx1-ubyte.gz to mnist_dataset/MNIST\\raw\n",
      "\n",
      "Downloading http://yann.lecun.com/exdb/mnist/t10k-images-idx3-ubyte.gz\n",
      "Failed to download (trying next):\n",
      "HTTP Error 404: Not Found\n",
      "\n",
      "Downloading https://ossci-datasets.s3.amazonaws.com/mnist/t10k-images-idx3-ubyte.gz\n",
      "Downloading https://ossci-datasets.s3.amazonaws.com/mnist/t10k-images-idx3-ubyte.gz to mnist_dataset/MNIST\\raw\\t10k-images-idx3-ubyte.gz\n"
     ]
    },
    {
     "name": "stderr",
     "output_type": "stream",
     "text": [
      "100.0%\n"
     ]
    },
    {
     "name": "stdout",
     "output_type": "stream",
     "text": [
      "Extracting mnist_dataset/MNIST\\raw\\t10k-images-idx3-ubyte.gz to mnist_dataset/MNIST\\raw\n",
      "\n",
      "Downloading http://yann.lecun.com/exdb/mnist/t10k-labels-idx1-ubyte.gz\n",
      "Failed to download (trying next):\n",
      "HTTP Error 404: Not Found\n",
      "\n",
      "Downloading https://ossci-datasets.s3.amazonaws.com/mnist/t10k-labels-idx1-ubyte.gz\n",
      "Downloading https://ossci-datasets.s3.amazonaws.com/mnist/t10k-labels-idx1-ubyte.gz to mnist_dataset/MNIST\\raw\\t10k-labels-idx1-ubyte.gz\n"
     ]
    },
    {
     "name": "stderr",
     "output_type": "stream",
     "text": [
      "100.0%\n"
     ]
    },
    {
     "name": "stdout",
     "output_type": "stream",
     "text": [
      "Extracting mnist_dataset/MNIST\\raw\\t10k-labels-idx1-ubyte.gz to mnist_dataset/MNIST\\raw\n",
      "\n"
     ]
    },
    {
     "data": {
      "image/png": "[encoded data removed]",
      "text/plain": [
       "<Figure size 1050x1000 with 35 Axes>"
      ]
     },
     "metadata": {},
     "output_type": "display_data"
    }
   ],
   "source": [
    "visualize_MNIST()"
   ]
  },
  {
   "cell_type": "markdown",
   "metadata": {},
   "source": [
    "## Hand design a 2 Layer Neural Network\n",
    "\n",
    "Using this web GUI (https://web.eecs.umich.edu/gkaul/A2_challenge_problem/) you can set the parameters of a 2 layer neural net. Instructions are on the web page, but at a high level you will hand draw the first layer templates (this is precisly what was visualized at the end Assignmnet 2-2) as well as set the weights of the second fully connected layer. **Make sure to download and save your model when you're done, Additionally upload it to the Assignment 2 folder as** `hand_drawn_weights.jpeg`.\n",
    "\n",
    "the network has the following architecture:\n",
    "\n",
    "    input (28x28 flattened) - fully connected layer (734->7) - ReLU - fully connected layer(7->10) - softmax\n",
    "\n",
    "The output of the network are the scores for each class - in this specific case they correspond to the actual label of each digit(0-9)."
   ]
  },
  {
   "cell_type": "markdown",
   "metadata": {},
   "source": [
    "## Load the Weights of your 2 layer neural net\n",
    "Upload your `hand_drawn_weights.jpeg` that you downloaded from the webpage and set the path below"
   ]
  },
  {
   "cell_type": "code",
   "execution_count": 11,
   "metadata": {},
   "outputs": [],
   "source": [
    "path_to_weights = 'path/to/hand_drawn_weights.jpeg'"
   ]
  },
  {
   "cell_type": "markdown",
   "metadata": {},
   "source": [
    "## Visualize your first layer features (resized as 28x28)\n",
    "These templates extract features from an input digit"
   ]
  },
  {
   "cell_type": "code",
   "execution_count": 12,
   "metadata": {},
   "outputs": [
    {
     "ename": "error",
     "evalue": "OpenCV(4.10.0) D:\\a\\opencv-python\\opencv-python\\opencv\\modules\\imgproc\\src\\color.cpp:196: error: (-215:Assertion failed) !_src.empty() in function 'cv::cvtColor'\n",
     "output_type": "error",
     "traceback": [
      "\u001b[1;31m---------------------------------------------------------------------------\u001b[0m",
      "\u001b[1;31merror\u001b[0m                                     Traceback (most recent call last)",
      "Cell \u001b[1;32mIn[12], line 1\u001b[0m\n\u001b[1;32m----> 1\u001b[0m w1 \u001b[38;5;241m=\u001b[39m get_w1(path_to_weights)\n\u001b[0;32m      2\u001b[0m display_templates(w1)\n",
      "File \u001b[1;32mf:\\code\\Projects\\UMich498-007\\Assignment\\A2\\eecs598\\a2_challenge_problem.py:160\u001b[0m, in \u001b[0;36mget_w1\u001b[1;34m(img_path)\u001b[0m\n\u001b[0;32m    158\u001b[0m templates \u001b[38;5;241m=\u001b[39m []\n\u001b[0;32m    159\u001b[0m neural_net \u001b[38;5;241m=\u001b[39m cv2\u001b[38;5;241m.\u001b[39mimread(img_path)\n\u001b[1;32m--> 160\u001b[0m neural_net \u001b[38;5;241m=\u001b[39m cv2\u001b[38;5;241m.\u001b[39mcvtColor(neural_net, cv2\u001b[38;5;241m.\u001b[39mCOLOR_BGR2RGB)\n\u001b[0;32m    161\u001b[0m neural_net \u001b[38;5;241m=\u001b[39m cv2\u001b[38;5;241m.\u001b[39mresize(\n\u001b[0;32m    162\u001b[0m     neural_net, (\u001b[38;5;241m900\u001b[39m, \u001b[38;5;241m800\u001b[39m), interpolation\u001b[38;5;241m=\u001b[39mcv2\u001b[38;5;241m.\u001b[39mINTER_AREA\n\u001b[0;32m    163\u001b[0m )\n\u001b[0;32m    164\u001b[0m X_tl \u001b[38;5;241m=\u001b[39m [\u001b[38;5;241m150\u001b[39m] \u001b[38;5;241m*\u001b[39m \u001b[38;5;241m7\u001b[39m\n",
      "\u001b[1;31merror\u001b[0m: OpenCV(4.10.0) D:\\a\\opencv-python\\opencv-python\\opencv\\modules\\imgproc\\src\\color.cpp:196: error: (-215:Assertion failed) !_src.empty() in function 'cv::cvtColor'\n"
     ]
    }
   ],
   "source": [
    "w1 = get_w1(path_to_weights)\n",
    "display_templates(w1)"
   ]
  },
  {
   "cell_type": "markdown",
   "metadata": {},
   "source": [
    "## Visualize your second layer\n",
    "The second layer will define linear combinations of our h1 representation"
   ]
  },
  {
   "cell_type": "code",
   "execution_count": null,
   "metadata": {},
   "outputs": [],
   "source": [
    "w2 = get_w2(path_to_weights)\n",
    "display_w2(w2)"
   ]
  },
  {
   "cell_type": "markdown",
   "metadata": {},
   "source": [
    "## Testing our NN on MNIST\n",
    "\n",
    "Now that you have designed and loaded your two layer neural network, it's time to evaluate our classifier on the test set.\n",
    "\n",
    "Simple solutions should be able to exceed ~20% accuracy. While this is relitivly low for MNIST (the exact same model architecture can achive ~92% when trained end to end using SGD), the goal of this problem is to help you think about how a 2 layer neural network can approximate an arbitrary function.\n",
    "\n",
    "you will recieve one point for every 2% you achive above 18% - we will grade using the following breakdown: \n",
    "\n",
    "| Accuracy | pts |\n",
    "| --- | --- | \n",
    "| 18-20%  | 1/5  |\n",
    "| 20-22%  | 2/5  |\n",
    "| 22-24%  | 3/5  | \n",
    "| 24-26%  | 4/5  |\n",
    "| 26%+   | 5/5  |"
   ]
  },
  {
   "cell_type": "code",
   "execution_count": null,
   "metadata": {},
   "outputs": [],
   "source": [
    "accuracy, correct_digits, incorrect_digits = evaluate_MNIST(w1,w2)\n",
    "print('your network scored',(accuracy)*100,'% on the MNIST test set')"
   ]
  },
  {
   "cell_type": "markdown",
   "metadata": {},
   "source": [
    "## This portion of the notebok will help you characterize your networks preformance\n",
    "\n",
    "Recall that a loss function measures the discrepency between our models prediction and the ground truth. When we evaluated your solution, we computed the cross entropy loss of each prediction as defined by `torch.nn.CrossEntropyLoss()` \n"
   ]
  },
  {
   "cell_type": "markdown",
   "metadata": {},
   "source": [
    "## Visualize lowest loss examples\n",
    "\n",
    "These are examples that your model classified correctly. The following list `correct_digits` is sorted by loss (lowest first), this means that your model's predicted distribution was close to the actual one hot distribution for these examples. These are examples that your model doesn't have difficulty classifying. \n"
   ]
  },
  {
   "cell_type": "code",
   "execution_count": null,
   "metadata": {},
   "outputs": [],
   "source": [
    "# you can change the indices to display more digits or different digits\n",
    "display_templates(correct_digits[:10])"
   ]
  },
  {
   "cell_type": "markdown",
   "metadata": {},
   "source": [
    "## Visualize highest loss examples\n",
    "\n",
    "These are examples that your model classified incorrectly. The following list `incorrect_digits` is sorted by loss (highest first), this means that your model's predicted distribution was far from the actual one hot distribution for these examples. Theese are examples that your model had the most difficulty classifying. Thinking about how your network handles these examples will give you a good starting point for improving your model"
   ]
  },
  {
   "cell_type": "code",
   "execution_count": null,
   "metadata": {},
   "outputs": [],
   "source": [
    "#you can change the indices to display more digits or different digits\n",
    "display_templates(incorrect_digits[:10])"
   ]
  },
  {
   "cell_type": "markdown",
   "metadata": {
    "colab_type": "text",
    "id": "37R_J2uMP3d-"
   },
   "source": [
    "# Submit Your Work\n",
    "After completing all 3 notebooks for this assignment (`linear_classifier.ipynb`, `two_layer_net.ipynb`,  and this notebook,`challenge_problem.ipynb` ), run the following cell to create a `.zip` file for you to download and turn in. **Please MANUALLY SAVE every `*.ipynb` and `*.py` files before executing the following cell:**"
   ]
  },
  {
   "cell_type": "code",
   "execution_count": null,
   "metadata": {
    "colab": {
     "base_uri": "https://localhost:8080/",
     "height": 34
    },
    "colab_type": "code",
    "id": "GE2M6t1hP-Pe",
    "outputId": "e7177738-a8a7-43a5-89e2-3258e14ce1e1"
   },
   "outputs": [],
   "source": [
    "from eecs598.submit import make_a2_submission\n",
    "\n",
    "# TODO: Replace these with your actual uniquename and umid\n",
    "uniquename = None\n",
    "umid = None\n",
    "make_a2_submission(GOOGLE_DRIVE_PATH, uniquename, umid)"
   ]
  },
  {
   "cell_type": "code",
   "execution_count": null,
   "metadata": {},
   "outputs": [],
   "source": []
  }
 ],
 "metadata": {
  "kernelspec": {
   "display_name": "pytorch",
   "language": "python",
   "name": "python3"
  },
  "language_info": {
   "codemirror_mode": {
    "name": "ipython",
    "version": 3
   },
   "file_extension": ".py",
   "mimetype": "text/x-python",
   "name": "python",
   "nbconvert_exporter": "python",
   "pygments_lexer": "ipython3",
   "version": "3.12.5"
  }
 },
 "nbformat": 4,
 "nbformat_minor": 4
}
